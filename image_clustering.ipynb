{
 "cells": [
  {
   "cell_type": "code",
   "execution_count": 1,
   "metadata": {},
   "outputs": [],
   "source": [
    "import numpy as np\n",
    "import cv2 as cv"
   ]
  },
  {
   "cell_type": "code",
   "execution_count": 2,
   "metadata": {},
   "outputs": [],
   "source": [
    "def K_Means(Image, K):\n",
    "    \n",
    "    if(len(Image.shape)<3):\n",
    "      Z = Image.reshape((-1,1))\n",
    "    elif len(Image.shape)==3:\n",
    "      Z = Image.reshape((-1,3))\n",
    "    \n",
    "    \n",
    "    # convert to np.float32\n",
    "    Z = np.float32(Z)\n",
    "    \n",
    "    # define criteria, number of clusters(K) and apply kmeans()\n",
    "    criteria = (cv.TERM_CRITERIA_EPS + cv.TERM_CRITERIA_MAX_ITER, 10, 1.0)\n",
    "    ret,label,center = cv.kmeans(Z, K, None, criteria, 10, cv.KMEANS_RANDOM_CENTERS)\n",
    "    \n",
    "    # Now convert back into uint8, and make original image\n",
    "    center = np.uint8(center)\n",
    "    res = center[label.flatten()]\n",
    "    Clustered_Image = res.reshape((Image.shape))\n",
    "    \n",
    "    return Clustered_Image"
   ]
  },
  {
   "cell_type": "code",
   "execution_count": 4,
   "metadata": {},
   "outputs": [
    {
     "name": "stdout",
     "output_type": "stream",
     "text": [
      "Please Enter to Continue...\n"
     ]
    }
   ],
   "source": [
    "def main():\n",
    "    Input_Image = cv.imread(r\"C:\\Users\\Ilakiya\\Desktop\\dora.jpg\")\n",
    "    Clusters = 2\n",
    "    Clustered_Image = K_Means(Input_Image, Clusters)\n",
    "    \n",
    "    cv.imwrite(\"Cluster_Image.png\", Clustered_Image)\n",
    "    input(\"Please Enter to Continue...\")\n",
    "if __name__ == '__main__':\n",
    "    main()\n"
   ]
  },
  {
   "cell_type": "code",
   "execution_count": null,
   "metadata": {},
   "outputs": [],
   "source": []
  }
 ],
 "metadata": {
  "kernelspec": {
   "display_name": "Python 3",
   "language": "python",
   "name": "python3"
  },
  "language_info": {
   "codemirror_mode": {
    "name": "ipython",
    "version": 3
   },
   "file_extension": ".py",
   "mimetype": "text/x-python",
   "name": "python",
   "nbconvert_exporter": "python",
   "pygments_lexer": "ipython3",
   "version": "3.8.5"
  }
 },
 "nbformat": 4,
 "nbformat_minor": 4
}
